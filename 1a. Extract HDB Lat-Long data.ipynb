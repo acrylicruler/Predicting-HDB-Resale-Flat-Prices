{
 "cells": [
  {
   "cell_type": "markdown",
   "id": "6a6b9aa0",
   "metadata": {},
   "source": [
    "# Extract HDB Lat-Long data\n",
    "\n",
    "This notebook uses OneMap's API to generate the properties' Lat and Long coordinates."
   ]
  },
  {
   "cell_type": "code",
   "execution_count": 1,
   "id": "9c31fe68",
   "metadata": {},
   "outputs": [],
   "source": [
    "# Basic Libraries\n",
    "import numpy as np\n",
    "import pandas as pd\n",
    "import seaborn as sb\n",
    "import matplotlib.pyplot as plt # we only need pyplot\n",
    "sb.set() # set the default Seaborn style for graphics\n",
    "\n",
    "import re"
   ]
  },
  {
   "cell_type": "code",
   "execution_count": 2,
   "id": "3230a7b8",
   "metadata": {},
   "outputs": [],
   "source": [
    "df = pd.read_csv(\"resale-flat-prices 2/resale-flat-prices-based-on-registration-date-from-jan-2017-onwards.csv\")"
   ]
  },
  {
   "cell_type": "code",
   "execution_count": 4,
   "id": "889ecac6",
   "metadata": {},
   "outputs": [],
   "source": [
    "df['remaining_lease'] = df['remaining_lease'].str.slice(stop=2).astype(int)"
   ]
  },
  {
   "cell_type": "code",
   "execution_count": 5,
   "id": "0cb042e9",
   "metadata": {},
   "outputs": [
    {
     "name": "stdout",
     "output_type": "stream",
     "text": [
      "<class 'pandas.core.frame.DataFrame'>\n",
      "RangeIndex: 148277 entries, 0 to 148276\n",
      "Data columns (total 11 columns):\n",
      " #   Column               Non-Null Count   Dtype  \n",
      "---  ------               --------------   -----  \n",
      " 0   month                148277 non-null  object \n",
      " 1   town                 148277 non-null  object \n",
      " 2   flat_type            148277 non-null  object \n",
      " 3   block                148277 non-null  object \n",
      " 4   street_name          148277 non-null  object \n",
      " 5   storey_range         148277 non-null  object \n",
      " 6   floor_area_sqm       148277 non-null  float64\n",
      " 7   flat_model           148277 non-null  object \n",
      " 8   lease_commence_date  148277 non-null  int64  \n",
      " 9   remaining_lease      148277 non-null  int64  \n",
      " 10  resale_price         148277 non-null  float64\n",
      "dtypes: float64(2), int64(2), object(7)\n",
      "memory usage: 12.4+ MB\n"
     ]
    }
   ],
   "source": [
    "df.info()"
   ]
  },
  {
   "cell_type": "markdown",
   "id": "4b4ace61",
   "metadata": {},
   "source": [
    "### Using OneMap's API to generate the corresponding geographical information"
   ]
  },
  {
   "cell_type": "code",
   "execution_count": 9,
   "id": "6c879a9a",
   "metadata": {},
   "outputs": [],
   "source": [
    "import json\n",
    "import requests\n",
    "import urllib.parse\n",
    "\n",
    "address = df['street_name'][4]+\" \"+df['block'][4]\n",
    "query_address = urllib.parse.quote(address)\n",
    "query_string = 'https://developers.onemap.sg/commonapi/search?searchVal='+str(query_address)+'&returnGeom=Y&getAddrDetails=Y&pageNum=1'\n",
    "resp = requests.get(query_string)\n",
    "        \n",
    "#Convert JSON into Python Object \n",
    "data=json.loads(resp.content)"
   ]
  },
  {
   "cell_type": "code",
   "execution_count": 10,
   "id": "3b27ec29",
   "metadata": {},
   "outputs": [
    {
     "data": {
      "text/plain": [
       "{'found': 2,\n",
       " 'totalNumPages': 1,\n",
       " 'pageNum': 1,\n",
       " 'results': [{'SEARCHVAL': 'MY FIRST SKOOL',\n",
       "   'BLK_NO': '601',\n",
       "   'ROAD_NAME': 'ANG MO KIO AVENUE 5',\n",
       "   'BUILDING': 'MY FIRST SKOOL',\n",
       "   'ADDRESS': '601 ANG MO KIO AVENUE 5 MY FIRST SKOOL SINGAPORE 560601',\n",
       "   'POSTAL': '560601',\n",
       "   'X': '28201.7824866865',\n",
       "   'Y': '40334.0512122996',\n",
       "   'LATITUDE': '1.38104134784496',\n",
       "   'LONGITUDE': '103.835131744823',\n",
       "   'LONGTITUDE': '103.835131744823'},\n",
       "  {'SEARCHVAL': 'YIO CHU KANG GREEN',\n",
       "   'BLK_NO': '601',\n",
       "   'ROAD_NAME': 'ANG MO KIO AVENUE 5',\n",
       "   'BUILDING': 'YIO CHU KANG GREEN',\n",
       "   'ADDRESS': '601 ANG MO KIO AVENUE 5 YIO CHU KANG GREEN SINGAPORE 560601',\n",
       "   'POSTAL': '560601',\n",
       "   'X': '28201.7822445426',\n",
       "   'Y': '40334.0520295352',\n",
       "   'LATITUDE': '1.38104135523576',\n",
       "   'LONGITUDE': '103.835131742647',\n",
       "   'LONGTITUDE': '103.835131742647'}]}"
      ]
     },
     "execution_count": 10,
     "metadata": {},
     "output_type": "execute_result"
    }
   ],
   "source": [
    "data"
   ]
  },
  {
   "cell_type": "markdown",
   "id": "efd3b701",
   "metadata": {},
   "source": [
    "#### Take note that the run-time expected from the cell below is about 6h"
   ]
  },
  {
   "cell_type": "code",
   "execution_count": 16,
   "id": "c058a1c4",
   "metadata": {
    "scrolled": true
   },
   "outputs": [
    {
     "name": "stdout",
     "output_type": "stream",
     "text": [
      "Sleeping... 124499\n",
      "Sleeping... 124749\n",
      "Sleeping... 124999\n",
      "Sleeping... 125249\n",
      "Sleeping... 125499\n",
      "Sleeping... 125749\n",
      "Sleeping... 125999\n",
      "Sleeping... 126249\n",
      "Sleeping... 126499\n",
      "Sleeping... 126749\n",
      "Sleeping... 126999\n",
      "Sleeping... 127249\n",
      "Sleeping... 127499\n",
      "Sleeping... 127749\n",
      "Sleeping... 127999\n",
      "Sleeping... 128249\n",
      "Sleeping... 128499\n",
      "Sleeping... 128749\n",
      "Sleeping... 128999\n",
      "Sleeping... 129249\n",
      "Sleeping... 129499\n",
      "Sleeping... 129749\n",
      "Sleeping... 129999\n",
      "Sleeping... 130249\n",
      "Sleeping... 130499\n",
      "Sleeping... 130749\n",
      "Sleeping... 130999\n",
      "Sleeping... 131249\n",
      "Sleeping... 131499\n",
      "Sleeping... 131749\n",
      "Sleeping... 131999\n",
      "Sleeping... 132249\n",
      "Sleeping... 132499\n",
      "Sleeping... 132749\n",
      "Sleeping... 132999\n",
      "Sleeping... 133249\n",
      "Sleeping... 133499\n",
      "Sleeping... 133749\n",
      "Sleeping... 133999\n",
      "Sleeping... 134249\n",
      "Sleeping... 134499\n",
      "Sleeping... 134749\n",
      "Sleeping... 134999\n",
      "Sleeping... 135249\n",
      "Sleeping... 135499\n",
      "Sleeping... 135749\n",
      "Sleeping... 135999\n",
      "Sleeping... 136249\n",
      "Sleeping... 136499\n",
      "Sleeping... 136749\n",
      "Sleeping... 136999\n",
      "Sleeping... 137249\n",
      "Sleeping... 137499\n",
      "Sleeping... 137749\n",
      "Sleeping... 137999\n",
      "Sleeping... 138249\n",
      "Sleeping... 138499\n",
      "Sleeping... 138749\n",
      "Sleeping... 138999\n",
      "Sleeping... 139249\n",
      "Sleeping... 139499\n",
      "Sleeping... 139749\n",
      "Sleeping... 139999\n",
      "Sleeping... 140249\n",
      "Sleeping... 140499\n",
      "Sleeping... 140749\n",
      "Sleeping... 140999\n",
      "Sleeping... 141249\n",
      "Sleeping... 141499\n",
      "Sleeping... 141749\n",
      "Sleeping... 141999\n",
      "Sleeping... 142249\n",
      "Sleeping... 142499\n",
      "Sleeping... 142749\n",
      "Sleeping... 142999\n",
      "Sleeping... 143249\n",
      "Sleeping... 143499\n",
      "Sleeping... 143749\n",
      "Sleeping... 143999\n",
      "Sleeping... 144249\n",
      "Sleeping... 144499\n",
      "Sleeping... 144749\n",
      "Sleeping... 144999\n",
      "Sleeping... 145249\n",
      "Sleeping... 145499\n",
      "Sleeping... 145749\n",
      "Sleeping... 145999\n",
      "Sleeping... 146249\n",
      "Sleeping... 146499\n",
      "Sleeping... 146749\n",
      "Sleeping... 146999\n",
      "Sleeping... 147249\n",
      "Sleeping... 147499\n",
      "Sleeping... 147749\n",
      "Sleeping... 147999\n",
      "Sleeping... 148249\n"
     ]
    }
   ],
   "source": [
    "import time\n",
    "\n",
    "for i in range(df.shape[0]):\n",
    "    if (df['Latitude'].isnull().iloc[i]):\n",
    "        address = df['street_name'][i]+\" \"+df['block'][i]\n",
    "        query_address = urllib.parse.quote(address)\n",
    "        query_string = 'https://developers.onemap.sg/commonapi/search?searchVal='+str(query_address)+'&returnGeom=Y&getAddrDetails=Y&pageNum=1'\n",
    "        resp = requests.get(query_string)\n",
    "\n",
    "        #Convert JSON into Python Object \n",
    "        data=json.loads(resp.content)\n",
    "\n",
    "        if(data['found'] == 0): \n",
    "            print(\"no data in row:\", i)\n",
    "        else:\n",
    "            df.loc[i, 'Longitude'] = data['results'][-1]['LONGITUDE']\n",
    "            df.loc[i, 'Latitude'] = data['results'][-1]['LATITUDE']\n",
    "            df.loc[i, 'Address'] = data['results'][-1]['ADDRESS']\n",
    "            df.loc[i, 'Postal code'] = data['results'][-1]['POSTAL']\n",
    "\n",
    "        if((i+1)%250==0):\n",
    "            print(\"Sleeping...\", i)\n",
    "            time.sleep(15)\n",
    "    else: continue"
   ]
  },
  {
   "cell_type": "code",
   "execution_count": 17,
   "id": "0b75be81",
   "metadata": {},
   "outputs": [
    {
     "name": "stdout",
     "output_type": "stream",
     "text": [
      "<class 'pandas.core.frame.DataFrame'>\n",
      "RangeIndex: 148277 entries, 0 to 148276\n",
      "Data columns (total 15 columns):\n",
      " #   Column               Non-Null Count   Dtype  \n",
      "---  ------               --------------   -----  \n",
      " 0   month                148277 non-null  object \n",
      " 1   town                 148277 non-null  object \n",
      " 2   flat_type            148277 non-null  object \n",
      " 3   block                148277 non-null  object \n",
      " 4   street_name          148277 non-null  object \n",
      " 5   storey_range         148277 non-null  object \n",
      " 6   floor_area_sqm       148277 non-null  float64\n",
      " 7   flat_model           148277 non-null  object \n",
      " 8   lease_commence_date  148277 non-null  int64  \n",
      " 9   remaining_lease      148277 non-null  int64  \n",
      " 10  resale_price         148277 non-null  float64\n",
      " 11  Longitude            148277 non-null  object \n",
      " 12  Latitude             148277 non-null  object \n",
      " 13  Address              148277 non-null  object \n",
      " 14  Postal code          148277 non-null  object \n",
      "dtypes: float64(2), int64(2), object(11)\n",
      "memory usage: 17.0+ MB\n"
     ]
    }
   ],
   "source": [
    "df.info()"
   ]
  },
  {
   "cell_type": "code",
   "execution_count": 19,
   "id": "ff2c3c6f",
   "metadata": {},
   "outputs": [],
   "source": [
    "df = df[df['Latitude'].isnull()==False]\n",
    "df.to_csv('df_with_latlong.csv',index=False)"
   ]
  }
 ],
 "metadata": {
  "kernelspec": {
   "display_name": "Python 3 (ipykernel)",
   "language": "python",
   "name": "python3"
  },
  "language_info": {
   "codemirror_mode": {
    "name": "ipython",
    "version": 3
   },
   "file_extension": ".py",
   "mimetype": "text/x-python",
   "name": "python",
   "nbconvert_exporter": "python",
   "pygments_lexer": "ipython3",
   "version": "3.9.7"
  }
 },
 "nbformat": 4,
 "nbformat_minor": 5
}
