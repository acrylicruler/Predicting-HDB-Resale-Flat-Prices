{
 "cells": [
  {
   "cell_type": "markdown",
   "id": "63828b0d",
   "metadata": {},
   "source": [
    "# Insert Mall Lat-Long Data\n",
    "\n",
    "This sheet aims to collect all shopping malls data in Singapore, together with their long and lat for data processing"
   ]
  },
  {
   "cell_type": "code",
   "execution_count": 30,
   "id": "128a8d23",
   "metadata": {},
   "outputs": [],
   "source": [
    "# Basic Libraries\n",
    "import numpy as np\n",
    "import pandas as pd\n",
    "import seaborn as sb\n",
    "import matplotlib.pyplot as plt # we only need pyplot\n",
    "sb.set() # set the default Seaborn style for graphics\n",
    "\n",
    "import re"
   ]
  },
  {
   "cell_type": "code",
   "execution_count": 31,
   "id": "70aa62d1",
   "metadata": {},
   "outputs": [],
   "source": [
    "df = pd.read_excel(\"shopping_malls.xlsx\", header=None)"
   ]
  },
  {
   "cell_type": "code",
   "execution_count": 32,
   "id": "0a192c47",
   "metadata": {},
   "outputs": [
    {
     "data": {
      "text/html": [
       "<div>\n",
       "<style scoped>\n",
       "    .dataframe tbody tr th:only-of-type {\n",
       "        vertical-align: middle;\n",
       "    }\n",
       "\n",
       "    .dataframe tbody tr th {\n",
       "        vertical-align: top;\n",
       "    }\n",
       "\n",
       "    .dataframe thead th {\n",
       "        text-align: right;\n",
       "    }\n",
       "</style>\n",
       "<table border=\"1\" class=\"dataframe\">\n",
       "  <thead>\n",
       "    <tr style=\"text-align: right;\">\n",
       "      <th></th>\n",
       "      <th>0</th>\n",
       "    </tr>\n",
       "  </thead>\n",
       "  <tbody>\n",
       "    <tr>\n",
       "      <th>0</th>\n",
       "      <td>100 AM</td>\n",
       "    </tr>\n",
       "    <tr>\n",
       "      <th>1</th>\n",
       "      <td>313@Somerset</td>\n",
       "    </tr>\n",
       "    <tr>\n",
       "      <th>2</th>\n",
       "      <td>Aperia</td>\n",
       "    </tr>\n",
       "    <tr>\n",
       "      <th>3</th>\n",
       "      <td>Balestier Hill Shopping Centre</td>\n",
       "    </tr>\n",
       "    <tr>\n",
       "      <th>4</th>\n",
       "      <td>Bugis Cube</td>\n",
       "    </tr>\n",
       "    <tr>\n",
       "      <th>...</th>\n",
       "      <td>...</td>\n",
       "    </tr>\n",
       "    <tr>\n",
       "      <th>161</th>\n",
       "      <td>Fairprice Hub</td>\n",
       "    </tr>\n",
       "    <tr>\n",
       "      <th>162</th>\n",
       "      <td>Gek Poh Shopping Centre</td>\n",
       "    </tr>\n",
       "    <tr>\n",
       "      <th>163</th>\n",
       "      <td>Rochester Mall</td>\n",
       "    </tr>\n",
       "    <tr>\n",
       "      <th>164</th>\n",
       "      <td>Taman Jurong Shopping Centre</td>\n",
       "    </tr>\n",
       "    <tr>\n",
       "      <th>165</th>\n",
       "      <td>West Coast Plaza</td>\n",
       "    </tr>\n",
       "  </tbody>\n",
       "</table>\n",
       "<p>166 rows × 1 columns</p>\n",
       "</div>"
      ],
      "text/plain": [
       "                                  0\n",
       "0                            100 AM\n",
       "1                      313@Somerset\n",
       "2                            Aperia\n",
       "3    Balestier Hill Shopping Centre\n",
       "4                        Bugis Cube\n",
       "..                              ...\n",
       "161                   Fairprice Hub\n",
       "162         Gek Poh Shopping Centre\n",
       "163                  Rochester Mall\n",
       "164    Taman Jurong Shopping Centre\n",
       "165                West Coast Plaza\n",
       "\n",
       "[166 rows x 1 columns]"
      ]
     },
     "execution_count": 32,
     "metadata": {},
     "output_type": "execute_result"
    }
   ],
   "source": [
    "df"
   ]
  },
  {
   "cell_type": "code",
   "execution_count": 33,
   "id": "30fdaef8",
   "metadata": {},
   "outputs": [
    {
     "name": "stdout",
     "output_type": "stream",
     "text": [
      "no data in row: 9\n",
      "no data in row: 12\n",
      "no data in row: 19\n",
      "no data in row: 30\n",
      "no data in row: 40\n",
      "no data in row: 43\n",
      "no data in row: 158\n"
     ]
    }
   ],
   "source": [
    "import json\n",
    "import requests\n",
    "import urllib.parse\n",
    "import time\n",
    "\n",
    "# For each row, get the long and lat coordinates\n",
    "for i in range(df.shape[0]):\n",
    "    address = df[0][i]\n",
    "    query_address = urllib.parse.quote(address)\n",
    "    query_string = 'https://developers.onemap.sg/commonapi/search?searchVal='+str(query_address)+'&returnGeom=Y&getAddrDetails=Y&pageNum=1'\n",
    "    resp = requests.get(query_string)\n",
    "\n",
    "    #Convert JSON into Python Object \n",
    "    data=json.loads(resp.content)\n",
    "\n",
    "    if(data['found'] == 0): \n",
    "        print(\"no data in row:\", i)\n",
    "    else:\n",
    "        df.loc[i, 'Longitude'] = data['results'][-1]['LONGITUDE']\n",
    "        df.loc[i, 'Latitude'] = data['results'][-1]['LATITUDE']\n",
    "        \n",
    "    if((i+1)%250==0):\n",
    "        print(\"Sleeping...\", i)\n",
    "        time.sleep(15)\n",
    "        "
   ]
  },
  {
   "cell_type": "code",
   "execution_count": 34,
   "id": "14d3640d",
   "metadata": {},
   "outputs": [
    {
     "data": {
      "text/html": [
       "<div>\n",
       "<style scoped>\n",
       "    .dataframe tbody tr th:only-of-type {\n",
       "        vertical-align: middle;\n",
       "    }\n",
       "\n",
       "    .dataframe tbody tr th {\n",
       "        vertical-align: top;\n",
       "    }\n",
       "\n",
       "    .dataframe thead th {\n",
       "        text-align: right;\n",
       "    }\n",
       "</style>\n",
       "<table border=\"1\" class=\"dataframe\">\n",
       "  <thead>\n",
       "    <tr style=\"text-align: right;\">\n",
       "      <th></th>\n",
       "      <th>0</th>\n",
       "      <th>Longitude</th>\n",
       "      <th>Latitude</th>\n",
       "    </tr>\n",
       "  </thead>\n",
       "  <tbody>\n",
       "    <tr>\n",
       "      <th>9</th>\n",
       "      <td>Clarke Quay Central</td>\n",
       "      <td>NaN</td>\n",
       "      <td>NaN</td>\n",
       "    </tr>\n",
       "    <tr>\n",
       "      <th>12</th>\n",
       "      <td>City Gate Mall</td>\n",
       "      <td>NaN</td>\n",
       "      <td>NaN</td>\n",
       "    </tr>\n",
       "    <tr>\n",
       "      <th>19</th>\n",
       "      <td>Holland Village Shopping Mall</td>\n",
       "      <td>NaN</td>\n",
       "      <td>NaN</td>\n",
       "    </tr>\n",
       "    <tr>\n",
       "      <th>30</th>\n",
       "      <td>Mustafa Shopping Centre</td>\n",
       "      <td>NaN</td>\n",
       "      <td>NaN</td>\n",
       "    </tr>\n",
       "    <tr>\n",
       "      <th>40</th>\n",
       "      <td>PoMo</td>\n",
       "      <td>NaN</td>\n",
       "      <td>NaN</td>\n",
       "    </tr>\n",
       "    <tr>\n",
       "      <th>43</th>\n",
       "      <td>Shaw House and Centre</td>\n",
       "      <td>NaN</td>\n",
       "      <td>NaN</td>\n",
       "    </tr>\n",
       "    <tr>\n",
       "      <th>158</th>\n",
       "      <td>OD Mall</td>\n",
       "      <td>NaN</td>\n",
       "      <td>NaN</td>\n",
       "    </tr>\n",
       "  </tbody>\n",
       "</table>\n",
       "</div>"
      ],
      "text/plain": [
       "                                 0 Longitude Latitude\n",
       "9              Clarke Quay Central       NaN      NaN\n",
       "12                  City Gate Mall       NaN      NaN\n",
       "19   Holland Village Shopping Mall       NaN      NaN\n",
       "30         Mustafa Shopping Centre       NaN      NaN\n",
       "40                            PoMo       NaN      NaN\n",
       "43           Shaw House and Centre       NaN      NaN\n",
       "158                        OD Mall       NaN      NaN"
      ]
     },
     "execution_count": 34,
     "metadata": {},
     "output_type": "execute_result"
    }
   ],
   "source": [
    "# Will fill in these data manually in the exported csv as there are only a few of them\n",
    "df[df['Latitude'].isnull()]"
   ]
  },
  {
   "cell_type": "code",
   "execution_count": 35,
   "id": "00aef6ec",
   "metadata": {},
   "outputs": [],
   "source": [
    "df['Latitude'] = df['Latitude'].astype(float)\n",
    "df['Longitude'] = df['Longitude'].astype(float)\n",
    "df = df.rename(columns={0:'Mall'})"
   ]
  },
  {
   "cell_type": "code",
   "execution_count": 36,
   "id": "fdb83771",
   "metadata": {
    "scrolled": true
   },
   "outputs": [
    {
     "name": "stdout",
     "output_type": "stream",
     "text": [
      "<class 'pandas.core.frame.DataFrame'>\n",
      "RangeIndex: 166 entries, 0 to 165\n",
      "Data columns (total 3 columns):\n",
      " #   Column     Non-Null Count  Dtype  \n",
      "---  ------     --------------  -----  \n",
      " 0   Mall       166 non-null    object \n",
      " 1   Longitude  159 non-null    float64\n",
      " 2   Latitude   159 non-null    float64\n",
      "dtypes: float64(2), object(1)\n",
      "memory usage: 4.0+ KB\n"
     ]
    }
   ],
   "source": [
    "df.info()"
   ]
  },
  {
   "cell_type": "markdown",
   "id": "71247a9c",
   "metadata": {},
   "source": [
    "#### Just for fun, I wanted to see where the mallsare located in Singapore"
   ]
  },
  {
   "cell_type": "code",
   "execution_count": 37,
   "id": "0a9caff8",
   "metadata": {},
   "outputs": [
    {
     "data": {
      "application/vnd.plotly.v1+json": {
       "config": {
        "plotlyServerURL": "https://plot.ly"
       },
       "data": [
        {
         "geo": "geo",
         "hovertemplate": "<b>%{hovertext}</b><br><br>Latitude=%{lat}<br>Longitude=%{lon}<extra></extra>",
         "hovertext": [
          "100 AM",
          "313@Somerset",
          "Aperia",
          "Balestier Hill Shopping Centre",
          "Bugis Cube",
          "Bugis Junction",
          "Bugis+",
          "Capitol Piazza",
          "Cathay Cineleisure Orchard",
          "Clarke Quay Central",
          "The Centrepoint",
          "City Square Mall",
          "City Gate Mall",
          "CityLink Mall",
          "Duo",
          "Far East Plaza",
          "Funan",
          "Great World City",
          "HDB Hub",
          "Holland Village Shopping Mall",
          "ION Orchard",
          "Junction 8",
          "Knightsbridge",
          "Liat Towers",
          "Lucky Plaza",
          "Marina Bay Sands",
          "The Shoppes at Marina Bay Sands",
          "Marina Bay Link Mall",
          "Marina Square",
          "Millenia Walk",
          "Mustafa Shopping Centre",
          "Ngee Ann City",
          "Orchard Central",
          "Orchard Gateway",
          "Orchard Plaza",
          "Midpoint Orchard",
          "Palais Renaissance",
          "People's Park Centre",
          "People's Park Complex",
          "Plaza Singapura",
          "PoMo",
          "Raffles City",
          "Scotts Square",
          "Shaw House and Centre",
          "Sim Lim Square",
          "Singapore Shopping Centre",
          "The South Beach",
          "Square 2",
          "Sunshine Plaza",
          "Suntec City",
          "Tanglin Mall",
          "Tanjong Pagar Centre",
          "Tekka Centre",
          "The Adelphi",
          "The Paragon",
          "Tiong Bahru Plaza",
          "The Poiz",
          "Thomson Plaza",
          "United Square",
          "Thomson V",
          "Velocity@Novena Square",
          "Wheelock Place",
          "Wisma Atria",
          "Zhongshan Mall",
          "Bedok Mall",
          "Century Square",
          "Our Tampines Hub",
          "Changi City Point",
          "Downtown East",
          "Djitsun Mall Bedok",
          "Eastpoint Mall",
          "Jewel Changi Airport",
          "KINEX ",
          "Katong Shopping Centre",
          "Katong Square",
          "Kallang Wave Mall",
          "Leisure Park Kallang",
          "i12 Katong",
          "Parkway Parade",
          "Paya Lebar Square",
          "Paya Lebar Quarter ",
          "Roxy Square",
          "Singpost Centre",
          "Tampines 1",
          "Tampines Mall",
          "White Sands",
          "City Plaza",
          "Elias Mall",
          "Loyang Point",
          "888 Plaza",
          "Admiralty Place",
          "AMK Hub",
          "Canberra Plaza",
          "Causeway Point",
          "Woodlands Civic Centre",
          "Broadway Plaza",
          "Djitsun Mall",
          "Jubilee Square",
          "Junction 8",
          "Junction Nine",
          "Marsiling Mall",
          "Northpoint City",
          "Sembawang Shopping Centre",
          "Sun Plaza",
          "Vista Point",
          "Wisteria Mall",
          "Woodlands Mart",
          "Woodlands North Plaza",
          "Waterway Point",
          "Compass One",
          "Hougang Mall",
          "Heartland Mall",
          "NEX",
          "Buangkok Square",
          "Greenwich V",
          "Hougang 1",
          "Hougang Green Shopping Mall",
          "Hougang Rivercourt",
          "myVillage At Serangoon Garden",
          "Northshore Plaza",
          "Oasis Terraces",
          "Punggol Plaza",
          "Rivervale Mall",
          "Rivervale Plaza",
          "The Seletar Mall",
          "Upper Serangoon Shopping Centre",
          "Beauty World Centre",
          "Beauty World Plaza",
          "Bukit Panjang Plaza",
          "Bukit Timah Plaza",
          "Fajar Shopping Centre",
          "Greenridge Shopping Centre",
          "Hillion Mall",
          "HillV2",
          "Junction 10",
          "Keat Hong Shopping Centre",
          "Limbang Shopping Centre",
          "Lot One",
          "Rail Mall",
          "Sunshine Place",
          "Teck Whye Shopping Centre",
          "West Mall",
          "Yew Tee Point",
          "Yew Tee Square",
          "VivoCity",
          "HarbourFront Centre",
          "Alexandra Retail Centre",
          "321 Clementi",
          "The Clementi Mall",
          "IMM",
          "JCube",
          "Jem",
          "Westgate",
          "Jurong Point",
          "Pioneer Mall",
          "The Star Vista",
          "Alexandra Central",
          "Anchorpoint",
          "OD Mall",
          "Boon Lay Shopping Centre",
          "Grantral Mall",
          "Fairprice Hub",
          "Gek Poh Shopping Centre",
          "Rochester Mall",
          "Taman Jurong Shopping Centre",
          "West Coast Plaza"
         ],
         "lat": [
          1.27468281482263,
          1.30138510214714,
          1.31086672816827,
          1.32616307866261,
          1.2981408343975,
          1.29980921963579,
          1.30090252607461,
          1.29307884763132,
          1.30149264852924,
          null,
          1.3019783690418,
          1.3111960330469,
          null,
          1.2927777312893,
          1.29940490828991,
          1.30731112598868,
          1.29111964028141,
          1.2934759620704,
          1.33289113874462,
          null,
          1.30409806225897,
          1.3501820033849,
          1.3029831225958,
          1.30508722710852,
          1.30448579105197,
          1.28240704314408,
          1.28423496027027,
          1.27992126239604,
          1.29111729179215,
          1.29296504146626,
          null,
          1.30242417189411,
          1.30083890839245,
          1.30044325279546,
          1.30495005564842,
          1.30177313264942,
          1.30665484543191,
          1.28575774235159,
          1.2848558843058,
          1.30083413030923,
          null,
          1.29407644483073,
          1.30576292435884,
          null,
          1.30290658774258,
          1.29815265394505,
          1.29498804392056,
          1.32068386322064,
          1.30039433798822,
          1.29464674534007,
          1.30484344196915,
          1.27661464758769,
          1.30617773048079,
          1.29118503658447,
          1.30387230879994,
          1.28633177192832,
          1.33145086608213,
          1.35432524209239,
          1.31724362960663,
          1.35342626634909,
          1.31929542501907,
          1.30467628730252,
          1.30369890706785,
          1.32694504456951,
          1.32477207441094,
          1.35226542880914,
          1.35313359828812,
          1.33414983488993,
          1.37777584209542,
          1.32611970329469,
          1.34270592355576,
          1.36023106736765,
          1.31461849889242,
          1.30382040183737,
          1.30513510179213,
          1.30307515150401,
          1.30240462507128,
          1.30522306203042,
          1.30112841266066,
          1.31881486980278,
          1.31617383739365,
          1.30432599904899,
          1.31898220434607,
          1.3535714417219,
          1.35259361362837,
          1.36555714668553,
          1.31480226743889,
          1.37860239771677,
          1.36707357525622,
          1.43712301500434,
          1.4398809549057,
          1.36919317898919,
          1.44349544527985,
          1.43622867995805,
          1.43515024446739,
          1.37193729131781,
          1.32611970329469,
          1.37178558575829,
          1.3501820033849,
          1.43306021695327,
          1.43354318137534,
          1.42811357691004,
          1.44185307934021,
          1.35780969729527,
          1.43089714603015,
          1.41795288501536,
          1.44564787003157,
          1.44275334327795,
          1.40653611690554,
          1.39205314156706,
          1.37931783499145,
          1.35954450890401,
          1.32080383232055,
          1.3840286792222,
          1.38736769500018,
          1.35370313485788,
          1.37931783499145,
          1.36273605302162,
          1.36511490572797,
          1.41796143093751,
          1.40278015725693,
          1.39425629780831,
          1.39221732695142,
          1.38550420775531,
          1.39150192642807,
          1.35348082277147,
          1.34241264188642,
          1.34180018619223,
          1.37992045176243,
          1.3386316527745,
          1.38377798738412,
          1.38529556526689,
          1.37843100827586,
          1.36267450828024,
          1.38033681049385,
          1.37736607441394,
          1.3920738867617,
          1.38497459672379,
          1.35809134778511,
          1.37789727709418,
          1.38004752975397,
          1.35009714832628,
          1.39708432396576,
          1.39836942665376,
          1.2650508426276,
          1.26393160324447,
          1.27414893629254,
          1.31200212030821,
          1.3151619083025,
          1.30210127109321,
          1.33332312550425,
          1.33305999269581,
          1.33459925741287,
          1.3394520043632,
          1.34167331883255,
          1.30681500712523,
          1.28745612377699,
          1.28861469030586,
          null,
          1.34637376407877,
          1.33372210930312,
          1.32561767792578,
          1.34874387926183,
          1.30540765569962,
          1.33476422515942,
          1.30362457527941
         ],
         "legendgroup": "",
         "lon": [
          103.843488359469,
          103.837684350436,
          103.863929573292,
          103.843741438467,
          103.855635339249,
          103.856030541943,
          103.855262679246,
          103.851261982149,
          103.836406753067,
          null,
          103.839759023416,
          103.856648119855,
          null,
          103.854173501417,
          103.858178555169,
          103.833939963454,
          103.849875038808,
          103.831975865363,
          103.847128310325,
          null,
          103.831592101365,
          103.848515664081,
          103.836283923443,
          103.830722581168,
          103.833941935117,
          103.858392749523,
          103.858982282698,
          103.854773147641,
          103.857758268089,
          103.859343968909,
          null,
          103.834676124723,
          103.839434733899,
          103.839442780042,
          103.832971130126,
          103.838659652851,
          103.829588045188,
          103.843929820315,
          103.842599920236,
          103.845072743164,
          null,
          103.853331827088,
          103.83308338186,
          null,
          103.853031869482,
          103.844111318107,
          103.856276242094,
          103.844227088554,
          103.850892323466,
          103.859724361759,
          103.823852794772,
          103.843167023188,
          103.850609985486,
          103.851184338699,
          103.835857545469,
          103.827550771424,
          103.868371681137,
          103.830328102928,
          103.844003130499,
          103.835628445378,
          103.844191353077,
          103.830642027577,
          103.833189592785,
          103.846554377679,
          103.929267654625,
          103.943384488656,
          103.940408135311,
          103.962981783778,
          103.95477359289,
          103.929554495615,
          103.953024618234,
          103.989457201894,
          103.894738004768,
          103.901040040407,
          103.904307160288,
          103.873149707591,
          103.876638148971,
          103.905043928938,
          103.905204909662,
          103.892580778242,
          103.893138984874,
          103.904051120306,
          103.894722842965,
          103.945004431786,
          103.944785968039,
          103.960918869319,
          103.893477464106,
          103.941978174681,
          103.964632225014,
          103.795314383823,
          103.801791019595,
          103.848464775629,
          103.830345369213,
          103.786349823084,
          103.786816106255,
          103.845949444498,
          103.929554495615,
          103.847837565378,
          103.848515664081,
          103.841649364872,
          103.77988189197,
          103.836063081819,
          103.824970378482,
          103.944917697684,
          103.793927429476,
          103.841268831617,
          103.798162285805,
          103.790548015512,
          103.90198817171,
          103.89507054384,
          103.88784708944,
          103.885169070198,
          103.878729392176,
          103.882006815341,
          103.869348049282,
          103.890680820842,
          103.88784708944,
          103.894796453744,
          103.865159501442,
          103.901321830086,
          103.913215101343,
          103.913043510411,
          103.904473070943,
          103.901988424927,
          103.87617162828,
          103.878828134896,
          103.776539385406,
          103.776259359854,
          103.764357180314,
          103.778585430975,
          103.771350678551,
          103.766170530147,
          103.762842789877,
          103.76417292006,
          103.760167883439,
          103.744393648768,
          103.743099573442,
          103.745011766388,
          103.767879290462,
          103.739015486021,
          103.752483841199,
          103.74921385957,
          103.746598000147,
          103.747188486453,
          103.821624580393,
          103.820112171695,
          103.801399416665,
          103.764986676365,
          103.764711789372,
          103.793724128024,
          103.740187071348,
          103.743503708169,
          103.74294445162,
          103.706685012926,
          103.697244542805,
          103.788462732266,
          103.805414652014,
          103.805009964592,
          null,
          103.712472819666,
          103.887530827719,
          103.678409741897,
          103.698298710842,
          103.788446680148,
          103.720460818484,
          103.765858386923
         ],
         "marker": {
          "color": "#636efa",
          "symbol": "circle"
         },
         "mode": "markers",
         "name": "",
         "showlegend": false,
         "type": "scattergeo"
        }
       ],
       "layout": {
        "geo": {
         "center": {},
         "domain": {
          "x": [
           0,
           1
          ],
          "y": [
           0,
           1
          ]
         }
        },
        "legend": {
         "tracegroupgap": 0
        },
        "margin": {
         "t": 60
        },
        "template": {
         "data": {
          "bar": [
           {
            "error_x": {
             "color": "#2a3f5f"
            },
            "error_y": {
             "color": "#2a3f5f"
            },
            "marker": {
             "line": {
              "color": "#E5ECF6",
              "width": 0.5
             },
             "pattern": {
              "fillmode": "overlay",
              "size": 10,
              "solidity": 0.2
             }
            },
            "type": "bar"
           }
          ],
          "barpolar": [
           {
            "marker": {
             "line": {
              "color": "#E5ECF6",
              "width": 0.5
             },
             "pattern": {
              "fillmode": "overlay",
              "size": 10,
              "solidity": 0.2
             }
            },
            "type": "barpolar"
           }
          ],
          "carpet": [
           {
            "aaxis": {
             "endlinecolor": "#2a3f5f",
             "gridcolor": "white",
             "linecolor": "white",
             "minorgridcolor": "white",
             "startlinecolor": "#2a3f5f"
            },
            "baxis": {
             "endlinecolor": "#2a3f5f",
             "gridcolor": "white",
             "linecolor": "white",
             "minorgridcolor": "white",
             "startlinecolor": "#2a3f5f"
            },
            "type": "carpet"
           }
          ],
          "choropleth": [
           {
            "colorbar": {
             "outlinewidth": 0,
             "ticks": ""
            },
            "type": "choropleth"
           }
          ],
          "contour": [
           {
            "colorbar": {
             "outlinewidth": 0,
             "ticks": ""
            },
            "colorscale": [
             [
              0,
              "#0d0887"
             ],
             [
              0.1111111111111111,
              "#46039f"
             ],
             [
              0.2222222222222222,
              "#7201a8"
             ],
             [
              0.3333333333333333,
              "#9c179e"
             ],
             [
              0.4444444444444444,
              "#bd3786"
             ],
             [
              0.5555555555555556,
              "#d8576b"
             ],
             [
              0.6666666666666666,
              "#ed7953"
             ],
             [
              0.7777777777777778,
              "#fb9f3a"
             ],
             [
              0.8888888888888888,
              "#fdca26"
             ],
             [
              1,
              "#f0f921"
             ]
            ],
            "type": "contour"
           }
          ],
          "contourcarpet": [
           {
            "colorbar": {
             "outlinewidth": 0,
             "ticks": ""
            },
            "type": "contourcarpet"
           }
          ],
          "heatmap": [
           {
            "colorbar": {
             "outlinewidth": 0,
             "ticks": ""
            },
            "colorscale": [
             [
              0,
              "#0d0887"
             ],
             [
              0.1111111111111111,
              "#46039f"
             ],
             [
              0.2222222222222222,
              "#7201a8"
             ],
             [
              0.3333333333333333,
              "#9c179e"
             ],
             [
              0.4444444444444444,
              "#bd3786"
             ],
             [
              0.5555555555555556,
              "#d8576b"
             ],
             [
              0.6666666666666666,
              "#ed7953"
             ],
             [
              0.7777777777777778,
              "#fb9f3a"
             ],
             [
              0.8888888888888888,
              "#fdca26"
             ],
             [
              1,
              "#f0f921"
             ]
            ],
            "type": "heatmap"
           }
          ],
          "heatmapgl": [
           {
            "colorbar": {
             "outlinewidth": 0,
             "ticks": ""
            },
            "colorscale": [
             [
              0,
              "#0d0887"
             ],
             [
              0.1111111111111111,
              "#46039f"
             ],
             [
              0.2222222222222222,
              "#7201a8"
             ],
             [
              0.3333333333333333,
              "#9c179e"
             ],
             [
              0.4444444444444444,
              "#bd3786"
             ],
             [
              0.5555555555555556,
              "#d8576b"
             ],
             [
              0.6666666666666666,
              "#ed7953"
             ],
             [
              0.7777777777777778,
              "#fb9f3a"
             ],
             [
              0.8888888888888888,
              "#fdca26"
             ],
             [
              1,
              "#f0f921"
             ]
            ],
            "type": "heatmapgl"
           }
          ],
          "histogram": [
           {
            "marker": {
             "pattern": {
              "fillmode": "overlay",
              "size": 10,
              "solidity": 0.2
             }
            },
            "type": "histogram"
           }
          ],
          "histogram2d": [
           {
            "colorbar": {
             "outlinewidth": 0,
             "ticks": ""
            },
            "colorscale": [
             [
              0,
              "#0d0887"
             ],
             [
              0.1111111111111111,
              "#46039f"
             ],
             [
              0.2222222222222222,
              "#7201a8"
             ],
             [
              0.3333333333333333,
              "#9c179e"
             ],
             [
              0.4444444444444444,
              "#bd3786"
             ],
             [
              0.5555555555555556,
              "#d8576b"
             ],
             [
              0.6666666666666666,
              "#ed7953"
             ],
             [
              0.7777777777777778,
              "#fb9f3a"
             ],
             [
              0.8888888888888888,
              "#fdca26"
             ],
             [
              1,
              "#f0f921"
             ]
            ],
            "type": "histogram2d"
           }
          ],
          "histogram2dcontour": [
           {
            "colorbar": {
             "outlinewidth": 0,
             "ticks": ""
            },
            "colorscale": [
             [
              0,
              "#0d0887"
             ],
             [
              0.1111111111111111,
              "#46039f"
             ],
             [
              0.2222222222222222,
              "#7201a8"
             ],
             [
              0.3333333333333333,
              "#9c179e"
             ],
             [
              0.4444444444444444,
              "#bd3786"
             ],
             [
              0.5555555555555556,
              "#d8576b"
             ],
             [
              0.6666666666666666,
              "#ed7953"
             ],
             [
              0.7777777777777778,
              "#fb9f3a"
             ],
             [
              0.8888888888888888,
              "#fdca26"
             ],
             [
              1,
              "#f0f921"
             ]
            ],
            "type": "histogram2dcontour"
           }
          ],
          "mesh3d": [
           {
            "colorbar": {
             "outlinewidth": 0,
             "ticks": ""
            },
            "type": "mesh3d"
           }
          ],
          "parcoords": [
           {
            "line": {
             "colorbar": {
              "outlinewidth": 0,
              "ticks": ""
             }
            },
            "type": "parcoords"
           }
          ],
          "pie": [
           {
            "automargin": true,
            "type": "pie"
           }
          ],
          "scatter": [
           {
            "fillpattern": {
             "fillmode": "overlay",
             "size": 10,
             "solidity": 0.2
            },
            "type": "scatter"
           }
          ],
          "scatter3d": [
           {
            "line": {
             "colorbar": {
              "outlinewidth": 0,
              "ticks": ""
             }
            },
            "marker": {
             "colorbar": {
              "outlinewidth": 0,
              "ticks": ""
             }
            },
            "type": "scatter3d"
           }
          ],
          "scattercarpet": [
           {
            "marker": {
             "colorbar": {
              "outlinewidth": 0,
              "ticks": ""
             }
            },
            "type": "scattercarpet"
           }
          ],
          "scattergeo": [
           {
            "marker": {
             "colorbar": {
              "outlinewidth": 0,
              "ticks": ""
             }
            },
            "type": "scattergeo"
           }
          ],
          "scattergl": [
           {
            "marker": {
             "colorbar": {
              "outlinewidth": 0,
              "ticks": ""
             }
            },
            "type": "scattergl"
           }
          ],
          "scattermapbox": [
           {
            "marker": {
             "colorbar": {
              "outlinewidth": 0,
              "ticks": ""
             }
            },
            "type": "scattermapbox"
           }
          ],
          "scatterpolar": [
           {
            "marker": {
             "colorbar": {
              "outlinewidth": 0,
              "ticks": ""
             }
            },
            "type": "scatterpolar"
           }
          ],
          "scatterpolargl": [
           {
            "marker": {
             "colorbar": {
              "outlinewidth": 0,
              "ticks": ""
             }
            },
            "type": "scatterpolargl"
           }
          ],
          "scatterternary": [
           {
            "marker": {
             "colorbar": {
              "outlinewidth": 0,
              "ticks": ""
             }
            },
            "type": "scatterternary"
           }
          ],
          "surface": [
           {
            "colorbar": {
             "outlinewidth": 0,
             "ticks": ""
            },
            "colorscale": [
             [
              0,
              "#0d0887"
             ],
             [
              0.1111111111111111,
              "#46039f"
             ],
             [
              0.2222222222222222,
              "#7201a8"
             ],
             [
              0.3333333333333333,
              "#9c179e"
             ],
             [
              0.4444444444444444,
              "#bd3786"
             ],
             [
              0.5555555555555556,
              "#d8576b"
             ],
             [
              0.6666666666666666,
              "#ed7953"
             ],
             [
              0.7777777777777778,
              "#fb9f3a"
             ],
             [
              0.8888888888888888,
              "#fdca26"
             ],
             [
              1,
              "#f0f921"
             ]
            ],
            "type": "surface"
           }
          ],
          "table": [
           {
            "cells": {
             "fill": {
              "color": "#EBF0F8"
             },
             "line": {
              "color": "white"
             }
            },
            "header": {
             "fill": {
              "color": "#C8D4E3"
             },
             "line": {
              "color": "white"
             }
            },
            "type": "table"
           }
          ]
         },
         "layout": {
          "annotationdefaults": {
           "arrowcolor": "#2a3f5f",
           "arrowhead": 0,
           "arrowwidth": 1
          },
          "autotypenumbers": "strict",
          "coloraxis": {
           "colorbar": {
            "outlinewidth": 0,
            "ticks": ""
           }
          },
          "colorscale": {
           "diverging": [
            [
             0,
             "#8e0152"
            ],
            [
             0.1,
             "#c51b7d"
            ],
            [
             0.2,
             "#de77ae"
            ],
            [
             0.3,
             "#f1b6da"
            ],
            [
             0.4,
             "#fde0ef"
            ],
            [
             0.5,
             "#f7f7f7"
            ],
            [
             0.6,
             "#e6f5d0"
            ],
            [
             0.7,
             "#b8e186"
            ],
            [
             0.8,
             "#7fbc41"
            ],
            [
             0.9,
             "#4d9221"
            ],
            [
             1,
             "#276419"
            ]
           ],
           "sequential": [
            [
             0,
             "#0d0887"
            ],
            [
             0.1111111111111111,
             "#46039f"
            ],
            [
             0.2222222222222222,
             "#7201a8"
            ],
            [
             0.3333333333333333,
             "#9c179e"
            ],
            [
             0.4444444444444444,
             "#bd3786"
            ],
            [
             0.5555555555555556,
             "#d8576b"
            ],
            [
             0.6666666666666666,
             "#ed7953"
            ],
            [
             0.7777777777777778,
             "#fb9f3a"
            ],
            [
             0.8888888888888888,
             "#fdca26"
            ],
            [
             1,
             "#f0f921"
            ]
           ],
           "sequentialminus": [
            [
             0,
             "#0d0887"
            ],
            [
             0.1111111111111111,
             "#46039f"
            ],
            [
             0.2222222222222222,
             "#7201a8"
            ],
            [
             0.3333333333333333,
             "#9c179e"
            ],
            [
             0.4444444444444444,
             "#bd3786"
            ],
            [
             0.5555555555555556,
             "#d8576b"
            ],
            [
             0.6666666666666666,
             "#ed7953"
            ],
            [
             0.7777777777777778,
             "#fb9f3a"
            ],
            [
             0.8888888888888888,
             "#fdca26"
            ],
            [
             1,
             "#f0f921"
            ]
           ]
          },
          "colorway": [
           "#636efa",
           "#EF553B",
           "#00cc96",
           "#ab63fa",
           "#FFA15A",
           "#19d3f3",
           "#FF6692",
           "#B6E880",
           "#FF97FF",
           "#FECB52"
          ],
          "font": {
           "color": "#2a3f5f"
          },
          "geo": {
           "bgcolor": "white",
           "lakecolor": "white",
           "landcolor": "#E5ECF6",
           "showlakes": true,
           "showland": true,
           "subunitcolor": "white"
          },
          "hoverlabel": {
           "align": "left"
          },
          "hovermode": "closest",
          "mapbox": {
           "style": "light"
          },
          "paper_bgcolor": "white",
          "plot_bgcolor": "#E5ECF6",
          "polar": {
           "angularaxis": {
            "gridcolor": "white",
            "linecolor": "white",
            "ticks": ""
           },
           "bgcolor": "#E5ECF6",
           "radialaxis": {
            "gridcolor": "white",
            "linecolor": "white",
            "ticks": ""
           }
          },
          "scene": {
           "xaxis": {
            "backgroundcolor": "#E5ECF6",
            "gridcolor": "white",
            "gridwidth": 2,
            "linecolor": "white",
            "showbackground": true,
            "ticks": "",
            "zerolinecolor": "white"
           },
           "yaxis": {
            "backgroundcolor": "#E5ECF6",
            "gridcolor": "white",
            "gridwidth": 2,
            "linecolor": "white",
            "showbackground": true,
            "ticks": "",
            "zerolinecolor": "white"
           },
           "zaxis": {
            "backgroundcolor": "#E5ECF6",
            "gridcolor": "white",
            "gridwidth": 2,
            "linecolor": "white",
            "showbackground": true,
            "ticks": "",
            "zerolinecolor": "white"
           }
          },
          "shapedefaults": {
           "line": {
            "color": "#2a3f5f"
           }
          },
          "ternary": {
           "aaxis": {
            "gridcolor": "white",
            "linecolor": "white",
            "ticks": ""
           },
           "baxis": {
            "gridcolor": "white",
            "linecolor": "white",
            "ticks": ""
           },
           "bgcolor": "#E5ECF6",
           "caxis": {
            "gridcolor": "white",
            "linecolor": "white",
            "ticks": ""
           }
          },
          "title": {
           "x": 0.05
          },
          "xaxis": {
           "automargin": true,
           "gridcolor": "white",
           "linecolor": "white",
           "ticks": "",
           "title": {
            "standoff": 15
           },
           "zerolinecolor": "white",
           "zerolinewidth": 2
          },
          "yaxis": {
           "automargin": true,
           "gridcolor": "white",
           "linecolor": "white",
           "ticks": "",
           "title": {
            "standoff": 15
           },
           "zerolinecolor": "white",
           "zerolinewidth": 2
          }
         }
        }
       }
      },
      "text/html": [
       "<div>                            <div id=\"f97e89ef-b49e-42a6-b001-3073941867c4\" class=\"plotly-graph-div\" style=\"height:525px; width:100%;\"></div>            <script type=\"text/javascript\">                require([\"plotly\"], function(Plotly) {                    window.PLOTLYENV=window.PLOTLYENV || {};                                    if (document.getElementById(\"f97e89ef-b49e-42a6-b001-3073941867c4\")) {                    Plotly.newPlot(                        \"f97e89ef-b49e-42a6-b001-3073941867c4\",                        [{\"geo\":\"geo\",\"hovertemplate\":\"<b>%{hovertext}</b><br><br>Latitude=%{lat}<br>Longitude=%{lon}<extra></extra>\",\"hovertext\":[\"100 AM\",\"313@Somerset\",\"Aperia\",\"Balestier Hill Shopping Centre\",\"Bugis Cube\",\"Bugis Junction\",\"Bugis+\",\"Capitol Piazza\",\"Cathay Cineleisure Orchard\",\"Clarke Quay Central\",\"The Centrepoint\",\"City Square Mall\",\"City Gate Mall\",\"CityLink Mall\",\"Duo\",\"Far East Plaza\",\"Funan\",\"Great World City\",\"HDB Hub\",\"Holland Village Shopping Mall\",\"ION Orchard\",\"Junction 8\",\"Knightsbridge\",\"Liat Towers\",\"Lucky Plaza\",\"Marina Bay Sands\",\"The Shoppes at Marina Bay Sands\",\"Marina Bay Link Mall\",\"Marina Square\",\"Millenia Walk\",\"Mustafa Shopping Centre\",\"Ngee Ann City\",\"Orchard Central\",\"Orchard Gateway\",\"Orchard Plaza\",\"Midpoint Orchard\",\"Palais Renaissance\",\"People's Park Centre\",\"People's Park Complex\",\"Plaza Singapura\",\"PoMo\",\"Raffles City\",\"Scotts Square\",\"Shaw House and Centre\",\"Sim Lim Square\",\"Singapore Shopping Centre\",\"The South Beach\",\"Square 2\",\"Sunshine Plaza\",\"Suntec City\",\"Tanglin Mall\",\"Tanjong Pagar Centre\",\"Tekka Centre\",\"The Adelphi\",\"The Paragon\",\"Tiong Bahru Plaza\",\"The Poiz\",\"Thomson Plaza\",\"United Square\",\"Thomson V\",\"Velocity@Novena Square\",\"Wheelock Place\",\"Wisma Atria\",\"Zhongshan Mall\",\"Bedok Mall\",\"Century Square\",\"Our Tampines Hub\",\"Changi City Point\",\"Downtown East\",\"Djitsun Mall Bedok\",\"Eastpoint Mall\",\"Jewel Changi Airport\",\"KINEX \",\"Katong Shopping Centre\",\"Katong Square\",\"Kallang Wave Mall\",\"Leisure Park Kallang\",\"i12 Katong\",\"Parkway Parade\",\"Paya Lebar Square\",\"Paya Lebar Quarter \",\"Roxy Square\",\"Singpost Centre\",\"Tampines 1\",\"Tampines Mall\",\"White Sands\",\"City Plaza\",\"Elias Mall\",\"Loyang Point\",\"888 Plaza\",\"Admiralty Place\",\"AMK Hub\",\"Canberra Plaza\",\"Causeway Point\",\"Woodlands Civic Centre\",\"Broadway Plaza\",\"Djitsun Mall\",\"Jubilee Square\",\"Junction 8\",\"Junction Nine\",\"Marsiling Mall\",\"Northpoint City\",\"Sembawang Shopping Centre\",\"Sun Plaza\",\"Vista Point\",\"Wisteria Mall\",\"Woodlands Mart\",\"Woodlands North Plaza\",\"Waterway Point\",\"Compass One\",\"Hougang Mall\",\"Heartland Mall\",\"NEX\",\"Buangkok Square\",\"Greenwich V\",\"Hougang 1\",\"Hougang Green Shopping Mall\",\"Hougang Rivercourt\",\"myVillage At Serangoon Garden\",\"Northshore Plaza\",\"Oasis Terraces\",\"Punggol Plaza\",\"Rivervale Mall\",\"Rivervale Plaza\",\"The Seletar Mall\",\"Upper Serangoon Shopping Centre\",\"Beauty World Centre\",\"Beauty World Plaza\",\"Bukit Panjang Plaza\",\"Bukit Timah Plaza\",\"Fajar Shopping Centre\",\"Greenridge Shopping Centre\",\"Hillion Mall\",\"HillV2\",\"Junction 10\",\"Keat Hong Shopping Centre\",\"Limbang Shopping Centre\",\"Lot One\",\"Rail Mall\",\"Sunshine Place\",\"Teck Whye Shopping Centre\",\"West Mall\",\"Yew Tee Point\",\"Yew Tee Square\",\"VivoCity\",\"HarbourFront Centre\",\"Alexandra Retail Centre\",\"321 Clementi\",\"The Clementi Mall\",\"IMM\",\"JCube\",\"Jem\",\"Westgate\",\"Jurong Point\",\"Pioneer Mall\",\"The Star Vista\",\"Alexandra Central\",\"Anchorpoint\",\"OD Mall\",\"Boon Lay Shopping Centre\",\"Grantral Mall\",\"Fairprice Hub\",\"Gek Poh Shopping Centre\",\"Rochester Mall\",\"Taman Jurong Shopping Centre\",\"West Coast Plaza\"],\"lat\":[1.27468281482263,1.30138510214714,1.31086672816827,1.32616307866261,1.2981408343975,1.29980921963579,1.30090252607461,1.29307884763132,1.30149264852924,null,1.3019783690418,1.3111960330469,null,1.2927777312893,1.29940490828991,1.30731112598868,1.29111964028141,1.2934759620704,1.33289113874462,null,1.30409806225897,1.3501820033849,1.3029831225958,1.30508722710852,1.30448579105197,1.28240704314408,1.28423496027027,1.27992126239604,1.29111729179215,1.29296504146626,null,1.30242417189411,1.30083890839245,1.30044325279546,1.30495005564842,1.30177313264942,1.30665484543191,1.28575774235159,1.2848558843058,1.30083413030923,null,1.29407644483073,1.30576292435884,null,1.30290658774258,1.29815265394505,1.29498804392056,1.32068386322064,1.30039433798822,1.29464674534007,1.30484344196915,1.27661464758769,1.30617773048079,1.29118503658447,1.30387230879994,1.28633177192832,1.33145086608213,1.35432524209239,1.31724362960663,1.35342626634909,1.31929542501907,1.30467628730252,1.30369890706785,1.32694504456951,1.32477207441094,1.35226542880914,1.35313359828812,1.33414983488993,1.37777584209542,1.32611970329469,1.34270592355576,1.36023106736765,1.31461849889242,1.30382040183737,1.30513510179213,1.30307515150401,1.30240462507128,1.30522306203042,1.30112841266066,1.31881486980278,1.31617383739365,1.30432599904899,1.31898220434607,1.3535714417219,1.35259361362837,1.36555714668553,1.31480226743889,1.37860239771677,1.36707357525622,1.43712301500434,1.4398809549057,1.36919317898919,1.44349544527985,1.43622867995805,1.43515024446739,1.37193729131781,1.32611970329469,1.37178558575829,1.3501820033849,1.43306021695327,1.43354318137534,1.42811357691004,1.44185307934021,1.35780969729527,1.43089714603015,1.41795288501536,1.44564787003157,1.44275334327795,1.40653611690554,1.39205314156706,1.37931783499145,1.35954450890401,1.32080383232055,1.3840286792222,1.38736769500018,1.35370313485788,1.37931783499145,1.36273605302162,1.36511490572797,1.41796143093751,1.40278015725693,1.39425629780831,1.39221732695142,1.38550420775531,1.39150192642807,1.35348082277147,1.34241264188642,1.34180018619223,1.37992045176243,1.3386316527745,1.38377798738412,1.38529556526689,1.37843100827586,1.36267450828024,1.38033681049385,1.37736607441394,1.3920738867617,1.38497459672379,1.35809134778511,1.37789727709418,1.38004752975397,1.35009714832628,1.39708432396576,1.39836942665376,1.2650508426276,1.26393160324447,1.27414893629254,1.31200212030821,1.3151619083025,1.30210127109321,1.33332312550425,1.33305999269581,1.33459925741287,1.3394520043632,1.34167331883255,1.30681500712523,1.28745612377699,1.28861469030586,null,1.34637376407877,1.33372210930312,1.32561767792578,1.34874387926183,1.30540765569962,1.33476422515942,1.30362457527941],\"legendgroup\":\"\",\"lon\":[103.843488359469,103.837684350436,103.863929573292,103.843741438467,103.855635339249,103.856030541943,103.855262679246,103.851261982149,103.836406753067,null,103.839759023416,103.856648119855,null,103.854173501417,103.858178555169,103.833939963454,103.849875038808,103.831975865363,103.847128310325,null,103.831592101365,103.848515664081,103.836283923443,103.830722581168,103.833941935117,103.858392749523,103.858982282698,103.854773147641,103.857758268089,103.859343968909,null,103.834676124723,103.839434733899,103.839442780042,103.832971130126,103.838659652851,103.829588045188,103.843929820315,103.842599920236,103.845072743164,null,103.853331827088,103.83308338186,null,103.853031869482,103.844111318107,103.856276242094,103.844227088554,103.850892323466,103.859724361759,103.823852794772,103.843167023188,103.850609985486,103.851184338699,103.835857545469,103.827550771424,103.868371681137,103.830328102928,103.844003130499,103.835628445378,103.844191353077,103.830642027577,103.833189592785,103.846554377679,103.929267654625,103.943384488656,103.940408135311,103.962981783778,103.95477359289,103.929554495615,103.953024618234,103.989457201894,103.894738004768,103.901040040407,103.904307160288,103.873149707591,103.876638148971,103.905043928938,103.905204909662,103.892580778242,103.893138984874,103.904051120306,103.894722842965,103.945004431786,103.944785968039,103.960918869319,103.893477464106,103.941978174681,103.964632225014,103.795314383823,103.801791019595,103.848464775629,103.830345369213,103.786349823084,103.786816106255,103.845949444498,103.929554495615,103.847837565378,103.848515664081,103.841649364872,103.77988189197,103.836063081819,103.824970378482,103.944917697684,103.793927429476,103.841268831617,103.798162285805,103.790548015512,103.90198817171,103.89507054384,103.88784708944,103.885169070198,103.878729392176,103.882006815341,103.869348049282,103.890680820842,103.88784708944,103.894796453744,103.865159501442,103.901321830086,103.913215101343,103.913043510411,103.904473070943,103.901988424927,103.87617162828,103.878828134896,103.776539385406,103.776259359854,103.764357180314,103.778585430975,103.771350678551,103.766170530147,103.762842789877,103.76417292006,103.760167883439,103.744393648768,103.743099573442,103.745011766388,103.767879290462,103.739015486021,103.752483841199,103.74921385957,103.746598000147,103.747188486453,103.821624580393,103.820112171695,103.801399416665,103.764986676365,103.764711789372,103.793724128024,103.740187071348,103.743503708169,103.74294445162,103.706685012926,103.697244542805,103.788462732266,103.805414652014,103.805009964592,null,103.712472819666,103.887530827719,103.678409741897,103.698298710842,103.788446680148,103.720460818484,103.765858386923],\"marker\":{\"color\":\"#636efa\",\"symbol\":\"circle\"},\"mode\":\"markers\",\"name\":\"\",\"showlegend\":false,\"type\":\"scattergeo\"}],                        {\"template\":{\"data\":{\"histogram2dcontour\":[{\"type\":\"histogram2dcontour\",\"colorbar\":{\"outlinewidth\":0,\"ticks\":\"\"},\"colorscale\":[[0.0,\"#0d0887\"],[0.1111111111111111,\"#46039f\"],[0.2222222222222222,\"#7201a8\"],[0.3333333333333333,\"#9c179e\"],[0.4444444444444444,\"#bd3786\"],[0.5555555555555556,\"#d8576b\"],[0.6666666666666666,\"#ed7953\"],[0.7777777777777778,\"#fb9f3a\"],[0.8888888888888888,\"#fdca26\"],[1.0,\"#f0f921\"]]}],\"choropleth\":[{\"type\":\"choropleth\",\"colorbar\":{\"outlinewidth\":0,\"ticks\":\"\"}}],\"histogram2d\":[{\"type\":\"histogram2d\",\"colorbar\":{\"outlinewidth\":0,\"ticks\":\"\"},\"colorscale\":[[0.0,\"#0d0887\"],[0.1111111111111111,\"#46039f\"],[0.2222222222222222,\"#7201a8\"],[0.3333333333333333,\"#9c179e\"],[0.4444444444444444,\"#bd3786\"],[0.5555555555555556,\"#d8576b\"],[0.6666666666666666,\"#ed7953\"],[0.7777777777777778,\"#fb9f3a\"],[0.8888888888888888,\"#fdca26\"],[1.0,\"#f0f921\"]]}],\"heatmap\":[{\"type\":\"heatmap\",\"colorbar\":{\"outlinewidth\":0,\"ticks\":\"\"},\"colorscale\":[[0.0,\"#0d0887\"],[0.1111111111111111,\"#46039f\"],[0.2222222222222222,\"#7201a8\"],[0.3333333333333333,\"#9c179e\"],[0.4444444444444444,\"#bd3786\"],[0.5555555555555556,\"#d8576b\"],[0.6666666666666666,\"#ed7953\"],[0.7777777777777778,\"#fb9f3a\"],[0.8888888888888888,\"#fdca26\"],[1.0,\"#f0f921\"]]}],\"heatmapgl\":[{\"type\":\"heatmapgl\",\"colorbar\":{\"outlinewidth\":0,\"ticks\":\"\"},\"colorscale\":[[0.0,\"#0d0887\"],[0.1111111111111111,\"#46039f\"],[0.2222222222222222,\"#7201a8\"],[0.3333333333333333,\"#9c179e\"],[0.4444444444444444,\"#bd3786\"],[0.5555555555555556,\"#d8576b\"],[0.6666666666666666,\"#ed7953\"],[0.7777777777777778,\"#fb9f3a\"],[0.8888888888888888,\"#fdca26\"],[1.0,\"#f0f921\"]]}],\"contourcarpet\":[{\"type\":\"contourcarpet\",\"colorbar\":{\"outlinewidth\":0,\"ticks\":\"\"}}],\"contour\":[{\"type\":\"contour\",\"colorbar\":{\"outlinewidth\":0,\"ticks\":\"\"},\"colorscale\":[[0.0,\"#0d0887\"],[0.1111111111111111,\"#46039f\"],[0.2222222222222222,\"#7201a8\"],[0.3333333333333333,\"#9c179e\"],[0.4444444444444444,\"#bd3786\"],[0.5555555555555556,\"#d8576b\"],[0.6666666666666666,\"#ed7953\"],[0.7777777777777778,\"#fb9f3a\"],[0.8888888888888888,\"#fdca26\"],[1.0,\"#f0f921\"]]}],\"surface\":[{\"type\":\"surface\",\"colorbar\":{\"outlinewidth\":0,\"ticks\":\"\"},\"colorscale\":[[0.0,\"#0d0887\"],[0.1111111111111111,\"#46039f\"],[0.2222222222222222,\"#7201a8\"],[0.3333333333333333,\"#9c179e\"],[0.4444444444444444,\"#bd3786\"],[0.5555555555555556,\"#d8576b\"],[0.6666666666666666,\"#ed7953\"],[0.7777777777777778,\"#fb9f3a\"],[0.8888888888888888,\"#fdca26\"],[1.0,\"#f0f921\"]]}],\"mesh3d\":[{\"type\":\"mesh3d\",\"colorbar\":{\"outlinewidth\":0,\"ticks\":\"\"}}],\"scatter\":[{\"fillpattern\":{\"fillmode\":\"overlay\",\"size\":10,\"solidity\":0.2},\"type\":\"scatter\"}],\"parcoords\":[{\"type\":\"parcoords\",\"line\":{\"colorbar\":{\"outlinewidth\":0,\"ticks\":\"\"}}}],\"scatterpolargl\":[{\"type\":\"scatterpolargl\",\"marker\":{\"colorbar\":{\"outlinewidth\":0,\"ticks\":\"\"}}}],\"bar\":[{\"error_x\":{\"color\":\"#2a3f5f\"},\"error_y\":{\"color\":\"#2a3f5f\"},\"marker\":{\"line\":{\"color\":\"#E5ECF6\",\"width\":0.5},\"pattern\":{\"fillmode\":\"overlay\",\"size\":10,\"solidity\":0.2}},\"type\":\"bar\"}],\"scattergeo\":[{\"type\":\"scattergeo\",\"marker\":{\"colorbar\":{\"outlinewidth\":0,\"ticks\":\"\"}}}],\"scatterpolar\":[{\"type\":\"scatterpolar\",\"marker\":{\"colorbar\":{\"outlinewidth\":0,\"ticks\":\"\"}}}],\"histogram\":[{\"marker\":{\"pattern\":{\"fillmode\":\"overlay\",\"size\":10,\"solidity\":0.2}},\"type\":\"histogram\"}],\"scattergl\":[{\"type\":\"scattergl\",\"marker\":{\"colorbar\":{\"outlinewidth\":0,\"ticks\":\"\"}}}],\"scatter3d\":[{\"type\":\"scatter3d\",\"line\":{\"colorbar\":{\"outlinewidth\":0,\"ticks\":\"\"}},\"marker\":{\"colorbar\":{\"outlinewidth\":0,\"ticks\":\"\"}}}],\"scattermapbox\":[{\"type\":\"scattermapbox\",\"marker\":{\"colorbar\":{\"outlinewidth\":0,\"ticks\":\"\"}}}],\"scatterternary\":[{\"type\":\"scatterternary\",\"marker\":{\"colorbar\":{\"outlinewidth\":0,\"ticks\":\"\"}}}],\"scattercarpet\":[{\"type\":\"scattercarpet\",\"marker\":{\"colorbar\":{\"outlinewidth\":0,\"ticks\":\"\"}}}],\"carpet\":[{\"aaxis\":{\"endlinecolor\":\"#2a3f5f\",\"gridcolor\":\"white\",\"linecolor\":\"white\",\"minorgridcolor\":\"white\",\"startlinecolor\":\"#2a3f5f\"},\"baxis\":{\"endlinecolor\":\"#2a3f5f\",\"gridcolor\":\"white\",\"linecolor\":\"white\",\"minorgridcolor\":\"white\",\"startlinecolor\":\"#2a3f5f\"},\"type\":\"carpet\"}],\"table\":[{\"cells\":{\"fill\":{\"color\":\"#EBF0F8\"},\"line\":{\"color\":\"white\"}},\"header\":{\"fill\":{\"color\":\"#C8D4E3\"},\"line\":{\"color\":\"white\"}},\"type\":\"table\"}],\"barpolar\":[{\"marker\":{\"line\":{\"color\":\"#E5ECF6\",\"width\":0.5},\"pattern\":{\"fillmode\":\"overlay\",\"size\":10,\"solidity\":0.2}},\"type\":\"barpolar\"}],\"pie\":[{\"automargin\":true,\"type\":\"pie\"}]},\"layout\":{\"autotypenumbers\":\"strict\",\"colorway\":[\"#636efa\",\"#EF553B\",\"#00cc96\",\"#ab63fa\",\"#FFA15A\",\"#19d3f3\",\"#FF6692\",\"#B6E880\",\"#FF97FF\",\"#FECB52\"],\"font\":{\"color\":\"#2a3f5f\"},\"hovermode\":\"closest\",\"hoverlabel\":{\"align\":\"left\"},\"paper_bgcolor\":\"white\",\"plot_bgcolor\":\"#E5ECF6\",\"polar\":{\"bgcolor\":\"#E5ECF6\",\"angularaxis\":{\"gridcolor\":\"white\",\"linecolor\":\"white\",\"ticks\":\"\"},\"radialaxis\":{\"gridcolor\":\"white\",\"linecolor\":\"white\",\"ticks\":\"\"}},\"ternary\":{\"bgcolor\":\"#E5ECF6\",\"aaxis\":{\"gridcolor\":\"white\",\"linecolor\":\"white\",\"ticks\":\"\"},\"baxis\":{\"gridcolor\":\"white\",\"linecolor\":\"white\",\"ticks\":\"\"},\"caxis\":{\"gridcolor\":\"white\",\"linecolor\":\"white\",\"ticks\":\"\"}},\"coloraxis\":{\"colorbar\":{\"outlinewidth\":0,\"ticks\":\"\"}},\"colorscale\":{\"sequential\":[[0.0,\"#0d0887\"],[0.1111111111111111,\"#46039f\"],[0.2222222222222222,\"#7201a8\"],[0.3333333333333333,\"#9c179e\"],[0.4444444444444444,\"#bd3786\"],[0.5555555555555556,\"#d8576b\"],[0.6666666666666666,\"#ed7953\"],[0.7777777777777778,\"#fb9f3a\"],[0.8888888888888888,\"#fdca26\"],[1.0,\"#f0f921\"]],\"sequentialminus\":[[0.0,\"#0d0887\"],[0.1111111111111111,\"#46039f\"],[0.2222222222222222,\"#7201a8\"],[0.3333333333333333,\"#9c179e\"],[0.4444444444444444,\"#bd3786\"],[0.5555555555555556,\"#d8576b\"],[0.6666666666666666,\"#ed7953\"],[0.7777777777777778,\"#fb9f3a\"],[0.8888888888888888,\"#fdca26\"],[1.0,\"#f0f921\"]],\"diverging\":[[0,\"#8e0152\"],[0.1,\"#c51b7d\"],[0.2,\"#de77ae\"],[0.3,\"#f1b6da\"],[0.4,\"#fde0ef\"],[0.5,\"#f7f7f7\"],[0.6,\"#e6f5d0\"],[0.7,\"#b8e186\"],[0.8,\"#7fbc41\"],[0.9,\"#4d9221\"],[1,\"#276419\"]]},\"xaxis\":{\"gridcolor\":\"white\",\"linecolor\":\"white\",\"ticks\":\"\",\"title\":{\"standoff\":15},\"zerolinecolor\":\"white\",\"automargin\":true,\"zerolinewidth\":2},\"yaxis\":{\"gridcolor\":\"white\",\"linecolor\":\"white\",\"ticks\":\"\",\"title\":{\"standoff\":15},\"zerolinecolor\":\"white\",\"automargin\":true,\"zerolinewidth\":2},\"scene\":{\"xaxis\":{\"backgroundcolor\":\"#E5ECF6\",\"gridcolor\":\"white\",\"linecolor\":\"white\",\"showbackground\":true,\"ticks\":\"\",\"zerolinecolor\":\"white\",\"gridwidth\":2},\"yaxis\":{\"backgroundcolor\":\"#E5ECF6\",\"gridcolor\":\"white\",\"linecolor\":\"white\",\"showbackground\":true,\"ticks\":\"\",\"zerolinecolor\":\"white\",\"gridwidth\":2},\"zaxis\":{\"backgroundcolor\":\"#E5ECF6\",\"gridcolor\":\"white\",\"linecolor\":\"white\",\"showbackground\":true,\"ticks\":\"\",\"zerolinecolor\":\"white\",\"gridwidth\":2}},\"shapedefaults\":{\"line\":{\"color\":\"#2a3f5f\"}},\"annotationdefaults\":{\"arrowcolor\":\"#2a3f5f\",\"arrowhead\":0,\"arrowwidth\":1},\"geo\":{\"bgcolor\":\"white\",\"landcolor\":\"#E5ECF6\",\"subunitcolor\":\"white\",\"showland\":true,\"showlakes\":true,\"lakecolor\":\"white\"},\"title\":{\"x\":0.05},\"mapbox\":{\"style\":\"light\"}}},\"geo\":{\"domain\":{\"x\":[0.0,1.0],\"y\":[0.0,1.0]},\"center\":{}},\"legend\":{\"tracegroupgap\":0},\"margin\":{\"t\":60}},                        {\"responsive\": true}                    ).then(function(){\n",
       "                            \n",
       "var gd = document.getElementById('f97e89ef-b49e-42a6-b001-3073941867c4');\n",
       "var x = new MutationObserver(function (mutations, observer) {{\n",
       "        var display = window.getComputedStyle(gd).display;\n",
       "        if (!display || display === 'none') {{\n",
       "            console.log([gd, 'removed!']);\n",
       "            Plotly.purge(gd);\n",
       "            observer.disconnect();\n",
       "        }}\n",
       "}});\n",
       "\n",
       "// Listen for the removal of the full notebook cells\n",
       "var notebookContainer = gd.closest('#notebook-container');\n",
       "if (notebookContainer) {{\n",
       "    x.observe(notebookContainer, {childList: true});\n",
       "}}\n",
       "\n",
       "// Listen for the clearing of the current output cell\n",
       "var outputEl = gd.closest('.output');\n",
       "if (outputEl) {{\n",
       "    x.observe(outputEl, {childList: true});\n",
       "}}\n",
       "\n",
       "                        })                };                });            </script>        </div>"
      ]
     },
     "metadata": {},
     "output_type": "display_data"
    }
   ],
   "source": [
    "# Plot points on a map to get a general sensing of how malls are distributed in Singapore\n",
    "import plotly.express as px\n",
    "map_fig = px.scatter_geo(df, lat='Latitude', lon='Longitude', hover_name='Mall')\n",
    "map_fig.show()"
   ]
  },
  {
   "cell_type": "code",
   "execution_count": 38,
   "id": "376393c6",
   "metadata": {},
   "outputs": [],
   "source": [
    "df.to_csv('malls_data.csv', index=False)"
   ]
  }
 ],
 "metadata": {
  "kernelspec": {
   "display_name": "Python 3 (ipykernel)",
   "language": "python",
   "name": "python3"
  },
  "language_info": {
   "codemirror_mode": {
    "name": "ipython",
    "version": 3
   },
   "file_extension": ".py",
   "mimetype": "text/x-python",
   "name": "python",
   "nbconvert_exporter": "python",
   "pygments_lexer": "ipython3",
   "version": "3.9.7"
  }
 },
 "nbformat": 4,
 "nbformat_minor": 5
}
